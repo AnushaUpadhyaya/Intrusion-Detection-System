{
 "cells": [
  {
   "cell_type": "code",
   "execution_count": 1,
   "metadata": {
    "colab": {
     "autoexec": {
      "startup": false,
      "wait_interval": 0
     },
     "base_uri": "https://localhost:8080/",
     "height": 51
    },
    "colab_type": "code",
    "executionInfo": {
     "elapsed": 8409,
     "status": "ok",
     "timestamp": 1526513282907,
     "user": {
      "displayName": "Anusha Upadhyaya",
      "photoUrl": "https://lh3.googleusercontent.com/a/default-user=s128",
      "userId": "113208651844280089352"
     },
     "user_tz": 240
    },
    "id": "e5fty8u9R2s6",
    "outputId": "9c376218-fb4e-4c11-f97e-19f3789ae028"
   },
   "outputs": [
    {
     "name": "stderr",
     "output_type": "stream",
     "text": [
      "Using TensorFlow backend.\n"
     ]
    },
    {
     "name": "stdout",
     "output_type": "stream",
     "text": [
      "channels_first\n"
     ]
    }
   ],
   "source": [
    "import argparse\n",
    "import math\n",
    "import sys\n",
    "import time\n",
    "import copy\n",
    "\n",
    "import keras\n",
    "from keras.models import Sequential, Model\n",
    "from keras.layers import Dense, Dropout, Flatten, Activation, BatchNormalization, regularizers\n",
    "from keras.layers.noise import GaussianNoise\n",
    "from keras.layers import Conv1D, MaxPooling1D\n",
    "from keras import backend as K\n",
    "from keras.callbacks import ModelCheckpoint, EarlyStopping\n",
    "from keras.utils.np_utils import to_categorical\n",
    "K.set_image_dim_ordering('th')\n",
    "print(K.image_data_format())\n",
    "\n",
    "## required for efficient GPU use\n",
    "import tensorflow as tf\n",
    "from keras.backend import tensorflow_backend\n",
    "config = tf.ConfigProto(gpu_options=tf.GPUOptions(allow_growth=True))\n",
    "session = tf.Session(config=config)\n",
    "tensorflow_backend.set_session(session)\n",
    "## required for efficient GPU use\n",
    "\n",
    "import os\n",
    "import pandas as pd # data processing, CSV file I/O (e.g. pd.read_csv)\n",
    "import numpy as np # linear algebra"
   ]
  },
  {
   "cell_type": "code",
   "execution_count": 0,
   "metadata": {
    "colab": {
     "autoexec": {
      "startup": false,
      "wait_interval": 0
     }
    },
    "colab_type": "code",
    "id": "od257MUdR2tF"
   },
   "outputs": [],
   "source": [
    "model_path='cnn_deep_mon.h5'\n",
    "\n",
    "\n",
    "callbacks = [\n",
    "    EarlyStopping(\n",
    "        monitor='val_acc', \n",
    "        patience=10,\n",
    "        mode='max',\n",
    "        verbose=1),\n",
    "    ModelCheckpoint(model_path,\n",
    "        monitor='val_acc', \n",
    "        save_best_only=True, \n",
    "        mode='max',\n",
    "        verbose=0)\n",
    "]"
   ]
  },
  {
   "cell_type": "code",
   "execution_count": 12,
   "metadata": {
    "colab": {
     "autoexec": {
      "startup": false,
      "wait_interval": 0
     },
     "base_uri": "https://localhost:8080/",
     "height": 85
    },
    "colab_type": "code",
    "executionInfo": {
     "elapsed": 4443,
     "status": "ok",
     "timestamp": 1526521332459,
     "user": {
      "displayName": "Anusha Upadhyaya",
      "photoUrl": "https://lh3.googleusercontent.com/a/default-user=s128",
      "userId": "113208651844280089352"
     },
     "user_tz": 240
    },
    "id": "FqVOY1avR2tL",
    "outputId": "fdb6a6f4-6ec6-4a6e-c82e-86173423427e"
   },
   "outputs": [
    {
     "name": "stdout",
     "output_type": "stream",
     "text": [
      "x_train shape: (529918, 78)\n",
      "y_train shape: (529918, 2)\n",
      "x_test shape: (445909, 78)\n",
      "y_test shape: (445909, 2)\n"
     ]
    }
   ],
   "source": [
    "class dataset:\n",
    "    monday = pd.read_pickle(\"preprocessed_monday_data.pkl\")\n",
    "    tuesday = pd.read_pickle(\"preprocessed_tuesday_data.pkl\")\n",
    "    \n",
    "    \n",
    "from sklearn import model_selection as ms\n",
    "from sklearn import preprocessing as pp\n",
    "\n",
    "class preprocess:\n",
    "    \n",
    "    output_columns_2labels = ['label_0','label_1']\n",
    "    \n",
    "    x_input = dataset.monday.drop(output_columns_2labels, axis = 1)\n",
    "    y_output = dataset.monday.loc[:,output_columns_2labels]\n",
    "\n",
    "    x_test_input = dataset.tuesday.drop(output_columns_2labels, axis = 1)\n",
    "    y_test = dataset.tuesday.loc[:,output_columns_2labels]\n",
    "    \n",
    "    ss = pp.StandardScaler()\n",
    "    \n",
    "    x_train = ss.fit_transform(x_input)\n",
    "    x_test = ss.fit_transform(x_test_input)\n",
    "    \n",
    "    y_train = y_output.values\n",
    "    y_test = y_test.values\n",
    "        \n",
    "    print('x_train shape: {}'.format(x_train.shape))\n",
    "    print('y_train shape: {}'.format(y_train.shape))\n",
    "    print('x_test shape: {}'.format(x_test.shape))\n",
    "    print('y_test shape: {}'.format(y_test.shape))"
   ]
  },
  {
   "cell_type": "code",
   "execution_count": 13,
   "metadata": {
    "colab": {
     "autoexec": {
      "startup": false,
      "wait_interval": 0
     },
     "base_uri": "https://localhost:8080/",
     "height": 51
    },
    "colab_type": "code",
    "executionInfo": {
     "elapsed": 1801,
     "status": "ok",
     "timestamp": 1526521342810,
     "user": {
      "displayName": "Anusha Upadhyaya",
      "photoUrl": "https://lh3.googleusercontent.com/a/default-user=s128",
      "userId": "113208651844280089352"
     },
     "user_tz": 240
    },
    "id": "I2g_kJ2bR2tS",
    "outputId": "4eee4abe-1bbf-4ece-99d9-cfbd6d903ed8"
   },
   "outputs": [
    {
     "name": "stdout",
     "output_type": "stream",
     "text": [
      "train shape after reshape: (529918, 78, 1)\n",
      "test shape after reshape: (445909, 78, 1)\n"
     ]
    }
   ],
   "source": [
    "X_train = np.reshape(preprocess.x_train, (preprocess.x_train.shape[0], preprocess.x_train.shape[1], 1))\n",
    "X_test = np.reshape(preprocess.x_test, (preprocess.x_test.shape[0], preprocess.x_test.shape[1], 1))\n",
    "\n",
    "print('train shape after reshape: {}'.format(X_train.shape))\n",
    "print('test shape after reshape: {}'.format(X_test.shape))"
   ]
  },
  {
   "cell_type": "code",
   "execution_count": 0,
   "metadata": {
    "colab": {
     "autoexec": {
      "startup": false,
      "wait_interval": 0
     }
    },
    "colab_type": "code",
    "id": "-F2ZAdWiR2tZ"
   },
   "outputs": [],
   "source": [
    "#size of parameters\n",
    "batch_size = 1000\n",
    "num_classes = 2\n",
    "epochs = 10\n",
    "filter_size=3\n",
    "#noise = 1\n",
    "droprate=0.50"
   ]
  },
  {
   "cell_type": "code",
   "execution_count": 22,
   "metadata": {
    "colab": {
     "autoexec": {
      "startup": false,
      "wait_interval": 0
     },
     "base_uri": "https://localhost:8080/",
     "height": 1091
    },
    "colab_type": "code",
    "executionInfo": {
     "elapsed": 1701,
     "status": "ok",
     "timestamp": 1526521704935,
     "user": {
      "displayName": "Anusha Upadhyaya",
      "photoUrl": "https://lh3.googleusercontent.com/a/default-user=s128",
      "userId": "113208651844280089352"
     },
     "user_tz": 240
    },
    "id": "dWbnpiIaR2tg",
    "outputId": "23562897-5e00-48be-ed15-173376954c18"
   },
   "outputs": [
    {
     "name": "stderr",
     "output_type": "stream",
     "text": [
      "/usr/local/lib/python3.6/dist-packages/ipykernel_launcher.py:11: UserWarning: Update your `Conv1D` call to the Keras 2 API: `Conv1D(128, kernel_size=3, activation=\"relu\", padding=\"same\")`\n",
      "  # This is added back by InteractiveShellApp.init_path()\n",
      "/usr/local/lib/python3.6/dist-packages/ipykernel_launcher.py:17: UserWarning: Update your `Conv1D` call to the Keras 2 API: `Conv1D(256, kernel_size=3, activation=\"relu\", padding=\"same\")`\n"
     ]
    },
    {
     "name": "stdout",
     "output_type": "stream",
     "text": [
      "_________________________________________________________________\n",
      "Layer (type)                 Output Shape              Param #   \n",
      "=================================================================\n",
      "conv1d_4 (Conv1D)            (None, 78, 64)            256       \n",
      "_________________________________________________________________\n",
      "batch_normalization_7 (Batch (None, 78, 64)            256       \n",
      "_________________________________________________________________\n",
      "dropout_7 (Dropout)          (None, 78, 64)            0         \n",
      "_________________________________________________________________\n",
      "conv1d_5 (Conv1D)            (None, 78, 128)           24704     \n",
      "_________________________________________________________________\n",
      "batch_normalization_8 (Batch (None, 78, 128)           512       \n",
      "_________________________________________________________________\n",
      "max_pooling1d_3 (MaxPooling1 (None, 77, 128)           0         \n",
      "_________________________________________________________________\n",
      "dropout_8 (Dropout)          (None, 77, 128)           0         \n",
      "_________________________________________________________________\n",
      "conv1d_6 (Conv1D)            (None, 77, 256)           98560     \n",
      "_________________________________________________________________\n",
      "batch_normalization_9 (Batch (None, 77, 256)           1024      \n",
      "_________________________________________________________________\n",
      "max_pooling1d_4 (MaxPooling1 (None, 76, 256)           0         \n",
      "_________________________________________________________________\n",
      "dropout_9 (Dropout)          (None, 76, 256)           0         \n",
      "_________________________________________________________________\n",
      "flatten_2 (Flatten)          (None, 19456)             0         \n",
      "_________________________________________________________________\n",
      "dense_5 (Dense)              (None, 64)                1245184   \n",
      "_________________________________________________________________\n",
      "batch_normalization_10 (Batc (None, 64)                256       \n",
      "_________________________________________________________________\n",
      "activation_5 (Activation)    (None, 64)                0         \n",
      "_________________________________________________________________\n",
      "dropout_10 (Dropout)         (None, 64)                0         \n",
      "_________________________________________________________________\n",
      "dense_6 (Dense)              (None, 32)                2048      \n",
      "_________________________________________________________________\n",
      "batch_normalization_11 (Batc (None, 32)                128       \n",
      "_________________________________________________________________\n",
      "activation_6 (Activation)    (None, 32)                0         \n",
      "_________________________________________________________________\n",
      "dropout_11 (Dropout)         (None, 32)                0         \n",
      "_________________________________________________________________\n",
      "dense_7 (Dense)              (None, 16)                512       \n",
      "_________________________________________________________________\n",
      "batch_normalization_12 (Batc (None, 16)                64        \n",
      "_________________________________________________________________\n",
      "activation_7 (Activation)    (None, 16)                0         \n",
      "_________________________________________________________________\n",
      "dropout_12 (Dropout)         (None, 16)                0         \n",
      "_________________________________________________________________\n",
      "dense_8 (Dense)              (None, 2)                 34        \n",
      "_________________________________________________________________\n",
      "activation_8 (Activation)    (None, 2)                 0         \n",
      "=================================================================\n",
      "Total params: 1,373,538\n",
      "Trainable params: 1,372,418\n",
      "Non-trainable params: 1,120\n",
      "_________________________________________________________________\n"
     ]
    }
   ],
   "source": [
    "#Start Neural Network\n",
    "model = Sequential()\n",
    "\n",
    "#convolution 1st layer\n",
    "model.add(Conv1D(64, kernel_size=(filter_size), padding=\"same\",\n",
    "                 activation='relu',\n",
    "                 input_shape=(78, 1)))\n",
    "model.add(BatchNormalization())\n",
    "model.add(Dropout(droprate))\n",
    "          \n",
    "#convolution 2nd layer\n",
    "model.add(Conv1D(128, kernel_size=(filter_size), activation='relu', border_mode=\"same\"))\n",
    "model.add(BatchNormalization())\n",
    "model.add(MaxPooling1D(strides=1))\n",
    "model.add(Dropout(droprate))\n",
    "\n",
    "#convolution 3rd layer\n",
    "model.add(Conv1D(256, kernel_size=(filter_size), activation='relu', border_mode=\"same\"))\n",
    "model.add(BatchNormalization())\n",
    "model.add(MaxPooling1D(strides=1))\n",
    "model.add(Dropout(droprate))\n",
    "\n",
    "#FCN 1st layer\n",
    "model.add(Flatten())\n",
    "model.add(Dense(64,use_bias=False))\n",
    "model.add(BatchNormalization())\n",
    "model.add(Activation('relu'))\n",
    "model.add(Dropout(droprate))\n",
    "\n",
    "#FCN 2nd layer\n",
    "model.add(Dense(32,use_bias=False))\n",
    "model.add(BatchNormalization())\n",
    "model.add(Activation('relu'))\n",
    "model.add(Dropout(droprate))\n",
    "\n",
    "#FCN 3rd layer\n",
    "model.add(Dense(16,use_bias=False))\n",
    "model.add(BatchNormalization())\n",
    "model.add(Activation('relu'))\n",
    "model.add(Dropout(droprate))\n",
    "\n",
    "#FCN final layer\n",
    "model.add(Dense(2))\n",
    "model.add(Activation('softmax'))\n",
    "\n",
    "model.compile(loss=\"binary_crossentropy\", optimizer=\"Adam\", metrics=['accuracy'])\n",
    "\n",
    "model.summary()"
   ]
  },
  {
   "cell_type": "code",
   "execution_count": 23,
   "metadata": {
    "colab": {
     "autoexec": {
      "startup": false,
      "wait_interval": 0
     },
     "base_uri": "https://localhost:8080/",
     "height": 428
    },
    "colab_type": "code",
    "executionInfo": {
     "elapsed": 1151683,
     "status": "ok",
     "timestamp": 1526522862120,
     "user": {
      "displayName": "Anusha Upadhyaya",
      "photoUrl": "https://lh3.googleusercontent.com/a/default-user=s128",
      "userId": "113208651844280089352"
     },
     "user_tz": 240
    },
    "id": "mScDrzaQR2tn",
    "outputId": "f30d57f5-ab73-4f2b-8cb2-95e6ccf72cb6"
   },
   "outputs": [
    {
     "name": "stdout",
     "output_type": "stream",
     "text": [
      "Train on 529918 samples, validate on 445909 samples\n",
      "Epoch 1/10\n",
      "529918/529918 [==============================] - 108s 204us/step - loss: 0.1305 - acc: 0.9731 - val_loss: 0.1644 - val_acc: 0.9690\n",
      "Epoch 2/10\n",
      " 71000/529918 [===>..........................] - ETA: 1:15 - loss: 0.0236 - acc: 0.9997529918/529918 [==============================] - 106s 200us/step - loss: 0.0155 - acc: 0.9998 - val_loss: 0.2257 - val_acc: 0.9690\n",
      "Epoch 3/10\n",
      "264000/529918 [=============>................] - ETA: 43s - loss: 0.0081 - acc: 0.9999529918/529918 [==============================] - 106s 200us/step - loss: 0.0070 - acc: 1.0000 - val_loss: 0.2635 - val_acc: 0.9690\n",
      "Epoch 4/10\n",
      "337000/529918 [==================>...........] - ETA: 31s - loss: 0.0045 - acc: 1.0000529918/529918 [==============================] - 106s 200us/step - loss: 0.0042 - acc: 1.0000 - val_loss: 0.2942 - val_acc: 0.9690\n",
      "Epoch 5/10\n",
      "364000/529918 [===================>..........] - ETA: 27s - loss: 0.0029 - acc: 1.0000529918/529918 [==============================] - 106s 199us/step - loss: 0.0027 - acc: 1.0000 - val_loss: 0.3185 - val_acc: 0.9690\n",
      "Epoch 6/10\n",
      "374000/529918 [====================>.........] - ETA: 25s - loss: 0.0019 - acc: 1.0000529918/529918 [==============================] - 106s 199us/step - loss: 0.0019 - acc: 1.0000 - val_loss: 0.3412 - val_acc: 0.9690\n",
      "Epoch 7/10\n",
      "378000/529918 [====================>.........] - ETA: 24s - loss: 0.0014 - acc: 1.0000529918/529918 [==============================] - 105s 199us/step - loss: 0.0014 - acc: 1.0000 - val_loss: 0.3601 - val_acc: 0.9690\n",
      "Epoch 8/10\n",
      "380000/529918 [====================>.........] - ETA: 24s - loss: 0.0011 - acc: 1.0000529918/529918 [==============================] - 106s 199us/step - loss: 0.0010 - acc: 1.0000 - val_loss: 0.3801 - val_acc: 0.9690\n",
      "Epoch 9/10\n",
      "374000/529918 [====================>.........] - ETA: 25s - loss: 8.2164e-04 - acc: 1.0000529918/529918 [==============================] - 106s 200us/step - loss: 8.0680e-04 - acc: 1.0000 - val_loss: 0.3921 - val_acc: 0.9690\n",
      "Epoch 10/10\n",
      "361000/529918 [===================>..........] - ETA: 27s - loss: 6.5881e-04 - acc: 1.0000529918/529918 [==============================] - 106s 200us/step - loss: 6.3061e-04 - acc: 1.0000 - val_loss: 0.4161 - val_acc: 0.9690\n",
      "Test loss: 0.4161117301276838\n",
      "Test accuracy: 0.9689734901067258\n"
     ]
    }
   ],
   "source": [
    "#Save Model=ON\n",
    "history = model.fit(X_train, preprocess.y_train,\n",
    "          batch_size=batch_size,\n",
    "          epochs=epochs,\n",
    "          verbose=1,\n",
    "          validation_data=(X_test, preprocess.y_test),shuffle=True)\n",
    "\n",
    "score = model.evaluate(X_test, preprocess.y_test, verbose=0)\n",
    "\n",
    "#print loss and accuracy\n",
    "print('Test loss:', score[0])\n",
    "print('Test accuracy:', score[1])"
   ]
  },
  {
   "cell_type": "code",
   "execution_count": 25,
   "metadata": {
    "colab": {
     "autoexec": {
      "startup": false,
      "wait_interval": 0
     },
     "base_uri": "https://localhost:8080/",
     "height": 377
    },
    "colab_type": "code",
    "executionInfo": {
     "elapsed": 242187,
     "status": "ok",
     "timestamp": 1526523549700,
     "user": {
      "displayName": "Anusha Upadhyaya",
      "photoUrl": "https://lh3.googleusercontent.com/a/default-user=s128",
      "userId": "113208651844280089352"
     },
     "user_tz": 240
    },
    "id": "m6iwGmkyR2t2",
    "outputId": "a914cbf1-0665-4dcf-aec9-a386d88f7449"
   },
   "outputs": [
    {
     "name": "stdout",
     "output_type": "stream",
     "text": [
      "[[9.9999988e-01 1.5089576e-07]\n",
      " [9.9999988e-01 9.6553933e-08]\n",
      " [9.9999988e-01 8.7484146e-08]\n",
      " ...\n",
      " [9.9999762e-01 2.3681193e-06]\n",
      " [9.9999499e-01 5.0405497e-06]\n",
      " [9.9999762e-01 2.3367672e-06]]\n",
      "[0 0 0 ... 0 0 0]\n",
      "[0 0 0 ... 0 0 0]\n"
     ]
    },
    {
     "name": "stderr",
     "output_type": "stream",
     "text": [
      "/usr/local/lib/python3.6/dist-packages/sklearn/metrics/classification.py:1135: UndefinedMetricWarning: Precision and F-score are ill-defined and being set to 0.0 in labels with no predicted samples.\n",
      "  'precision', 'predicted', average, warn_for)\n"
     ]
    },
    {
     "name": "stdout",
     "output_type": "stream",
     "text": [
      "             precision    recall  f1-score   support\n",
      "\n",
      "          0     0.9690    1.0000    0.9842    432074\n",
      "          1     0.0000    0.0000    0.0000     13835\n",
      "\n",
      "avg / total     0.9389    0.9690    0.9537    445909\n",
      "\n",
      "[[432074      0]\n",
      " [ 13835      0]]\n"
     ]
    }
   ],
   "source": [
    "from sklearn.metrics import classification_report, confusion_matrix\n",
    "\n",
    "y_pred = model.predict(X_test)\n",
    "print(y_pred)\n",
    "y_pred = np.argmax(y_pred, axis=1)\n",
    "print(y_pred)\n",
    "\n",
    "y_pred = model.predict_classes(X_test)\n",
    "print(y_pred)\n",
    "\n",
    "p=model.predict_proba(X_test)\n",
    "\n",
    "target_names = ['0', '1']\n",
    "print(classification_report(np.argmax(preprocess.y_test, axis=1), y_pred, target_names=target_names, digits=4))\n",
    "print(confusion_matrix(np.argmax(preprocess.y_test, axis=1), y_pred))"
   ]
  }
 ],
 "metadata": {
  "accelerator": "GPU",
  "colab": {
   "default_view": {},
   "name": "Deep CNN Monday_Tuesday.ipynb",
   "provenance": [],
   "version": "0.3.2",
   "views": {}
  },
  "kernelspec": {
   "display_name": "Python 3",
   "language": "python",
   "name": "python3"
  },
  "language_info": {
   "codemirror_mode": {
    "name": "ipython",
    "version": 3
   },
   "file_extension": ".py",
   "mimetype": "text/x-python",
   "name": "python",
   "nbconvert_exporter": "python",
   "pygments_lexer": "ipython3",
   "version": "3.6.3"
  }
 },
 "nbformat": 4,
 "nbformat_minor": 1
}
