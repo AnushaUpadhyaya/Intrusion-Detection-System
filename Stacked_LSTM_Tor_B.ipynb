{
 "cells": [
  {
   "cell_type": "code",
   "execution_count": 1,
   "metadata": {
    "collapsed": true
   },
   "outputs": [],
   "source": [
    "import pandas as pd\n",
    "import numpy as np\n",
    "import os\n",
    "import time\n",
    "from collections import namedtuple\n",
    "pd.set_option(\"display.max_rows\",35)\n",
    "%matplotlib inline"
   ]
  },
  {
   "cell_type": "code",
   "execution_count": 2,
   "metadata": {
    "collapsed": true
   },
   "outputs": [],
   "source": [
    "a = pd.read_pickle('D:/AI/X_train.pkl')\n",
    "a1 = pd.read_pickle('D:/AI/X_test.pkl')\n",
    "b = pd.read_pickle('D:/AI/y_train.pkl')\n",
    "b1 = pd.read_pickle('D:/AI/y_test.pkl')"
   ]
  },
  {
   "cell_type": "code",
   "execution_count": 13,
   "metadata": {},
   "outputs": [
    {
     "name": "stdout",
     "output_type": "stream",
     "text": [
      "[[0 0 0 ... 0 0 1]\n",
      " [0 1 0 ... 0 0 0]\n",
      " [0 0 0 ... 0 0 1]\n",
      " ...\n",
      " [0 1 0 ... 0 0 0]\n",
      " [0 0 1 ... 0 0 0]\n",
      " [0 0 0 ... 0 0 1]]\n"
     ]
    }
   ],
   "source": [
    "from sklearn import model_selection as ms\n",
    "from sklearn import preprocessing as pp\n",
    "from sklearn.preprocessing import MinMaxScaler\n",
    "\n",
    "class preprocess:\n",
    "    \n",
    "    output_columns_2labels = ['label_AUDIO','label_BROWSING','label_CHAT','label_FILE-TRANSFER','label_MAIL','label_P2P','label_VIDEO','label_VOIP']\n",
    "    \n",
    "    x_input = a.drop(output_columns_2labels, axis = 1)\n",
    "    y_output = b.loc[:,output_columns_2labels]\n",
    "\n",
    "\n",
    "    x_test_input = a1.drop(output_columns_2labels, axis = 1)\n",
    "    y_test = b1.loc[:,output_columns_2labels]\n",
    "    \n",
    "    #x_test__input = dataset.kdd_test__2labels.drop(output_columns_2labels, axis = 1)\n",
    "    #y_test_ = dataset.kdd_test__2labels.loc[:,output_columns_2labels]\n",
    "\n",
    "    sc = pp.StandardScaler()\n",
    "\n",
    "    a_train1 = sc.fit_transform(x_input)\n",
    "    a1_test1 = sc.transform(x_test_input)\n",
    "    #x_test_ = ss.transform(x_test__input)\n",
    "\n",
    "    b_train1 = y_output.values\n",
    "    b1_test1 = y_test.values\n",
    "    #y_test_ = y_test_.values\n",
    "\n",
    "    \n",
    "preprocess.a_train1.std()\n",
    "print(preprocess.b1_test1)"
   ]
  },
  {
   "cell_type": "code",
   "execution_count": 4,
   "metadata": {
    "collapsed": true
   },
   "outputs": [],
   "source": [
    "x_train1 = np.reshape(preprocess.a_train1, (preprocess.a_train1.shape[0], preprocess.a_train1.shape[1], 1))"
   ]
  },
  {
   "cell_type": "code",
   "execution_count": 5,
   "metadata": {},
   "outputs": [
    {
     "data": {
      "text/plain": [
       "(11606, 24, 1)"
      ]
     },
     "execution_count": 5,
     "metadata": {},
     "output_type": "execute_result"
    }
   ],
   "source": [
    "x_train1.shape"
   ]
  },
  {
   "cell_type": "code",
   "execution_count": 6,
   "metadata": {},
   "outputs": [
    {
     "name": "stderr",
     "output_type": "stream",
     "text": [
      "c:\\users\\anusha\\appdata\\local\\programs\\python\\python36\\lib\\site-packages\\h5py\\__init__.py:36: FutureWarning: Conversion of the second argument of issubdtype from `float` to `np.floating` is deprecated. In future, it will be treated as `np.float64 == np.dtype(float).type`.\n",
      "  from ._conv import register_converters as _register_converters\n",
      "Using TensorFlow backend.\n"
     ]
    },
    {
     "name": "stdout",
     "output_type": "stream",
     "text": [
      "_________________________________________________________________\n",
      "Layer (type)                 Output Shape              Param #   \n",
      "=================================================================\n",
      "lstm_1 (LSTM)                (None, 24, 50)            10400     \n",
      "_________________________________________________________________\n",
      "dropout_1 (Dropout)          (None, 24, 50)            0         \n",
      "_________________________________________________________________\n",
      "lstm_2 (LSTM)                (None, 24, 50)            20200     \n",
      "_________________________________________________________________\n",
      "dropout_2 (Dropout)          (None, 24, 50)            0         \n",
      "_________________________________________________________________\n",
      "lstm_3 (LSTM)                (None, 24, 50)            20200     \n",
      "_________________________________________________________________\n",
      "dropout_3 (Dropout)          (None, 24, 50)            0         \n",
      "_________________________________________________________________\n",
      "lstm_4 (LSTM)                (None, 50)                20200     \n",
      "_________________________________________________________________\n",
      "dropout_4 (Dropout)          (None, 50)                0         \n",
      "_________________________________________________________________\n",
      "dense_1 (Dense)              (None, 8)                 408       \n",
      "=================================================================\n",
      "Total params: 71,408\n",
      "Trainable params: 71,408\n",
      "Non-trainable params: 0\n",
      "_________________________________________________________________\n"
     ]
    }
   ],
   "source": [
    "from keras.models import Sequential\n",
    "from keras.layers import Dense\n",
    "from keras.layers import LSTM\n",
    "from keras.layers import Dropout\n",
    "\n",
    "#Initializing the RNN\n",
    "regressor = Sequential()\n",
    "\n",
    "#Adding the first LSTM layer and some dropout regularization\n",
    "regressor.add(LSTM(units = 50, return_sequences = True, input_shape = (x_train1.shape[1], 1)))\n",
    "regressor.add(Dropout(0.2))\n",
    "\n",
    "#Adding second LSTM layer and some dropout regularization\n",
    "regressor.add(LSTM(units = 50, return_sequences = True))\n",
    "regressor.add(Dropout(0.2))\n",
    "\n",
    "#Adding third LSTM layer and some dropout regularisation\n",
    "regressor.add(LSTM(units = 50, return_sequences = True))\n",
    "regressor.add(Dropout(0.2))\n",
    "\n",
    "#Adding fourth LSTM layer and dropout regularisation\n",
    "regressor.add(LSTM(units = 50))\n",
    "regressor.add(Dropout(0.2))\n",
    "\n",
    "#Adding the output layer\n",
    "regressor.add(Dense(units = 8))\n",
    "\n",
    "#compiling the RNN\n",
    "regressor.compile(optimizer = 'adam', loss = 'mean_squared_error')\n",
    "regressor.summary()\n"
   ]
  },
  {
   "cell_type": "code",
   "execution_count": 7,
   "metadata": {},
   "outputs": [
    {
     "name": "stdout",
     "output_type": "stream",
     "text": [
      "Epoch 1/10\n",
      "11606/11606 [==============================] - 15s 1ms/step - loss: 0.1116\n",
      "Epoch 2/10\n",
      "11606/11606 [==============================] - 12s 1ms/step - loss: 0.0981\n",
      "Epoch 3/10\n",
      "11606/11606 [==============================] - 12s 1ms/step - loss: 0.0960\n",
      "Epoch 4/10\n",
      "11606/11606 [==============================] - 12s 1ms/step - loss: 0.0931\n",
      "Epoch 5/10\n",
      "11606/11606 [==============================] - 12s 1ms/step - loss: 0.0885\n",
      "Epoch 6/10\n",
      "11606/11606 [==============================] - 12s 1ms/step - loss: 0.0856\n",
      "Epoch 7/10\n",
      "11606/11606 [==============================] - 12s 1ms/step - loss: 0.0828\n",
      "Epoch 8/10\n",
      "11606/11606 [==============================] - 12s 1ms/step - loss: 0.0807\n",
      "Epoch 9/10\n",
      "11606/11606 [==============================] - 13s 1ms/step - loss: 0.0788\n",
      "Epoch 10/10\n",
      "11606/11606 [==============================] - 12s 1ms/step - loss: 0.0758\n"
     ]
    },
    {
     "data": {
      "text/plain": [
       "<keras.callbacks.History at 0x1723db00>"
      ]
     },
     "execution_count": 7,
     "metadata": {},
     "output_type": "execute_result"
    }
   ],
   "source": [
    "regressor.fit(x_train1, preprocess.b_train1, epochs = 10, batch_size = 1000)"
   ]
  },
  {
   "cell_type": "code",
   "execution_count": 9,
   "metadata": {
    "collapsed": true
   },
   "outputs": [],
   "source": [
    "x_test1 = np.reshape(preprocess.a1_test1, (preprocess.a1_test1.shape[0], preprocess.a1_test1.shape[1], 1))"
   ]
  },
  {
   "cell_type": "code",
   "execution_count": 10,
   "metadata": {
    "collapsed": true
   },
   "outputs": [],
   "source": [
    "predictions = regressor.predict(x_test1)"
   ]
  },
  {
   "cell_type": "code",
   "execution_count": 15,
   "metadata": {},
   "outputs": [
    {
     "name": "stdout",
     "output_type": "stream",
     "text": [
      "[[ 4.77307141e-02  8.95726383e-02  1.87306572e-03 ...  1.30059034e-01\n",
      "   1.13048933e-01  3.80443692e-01]\n",
      " [ 1.32612493e-02  7.24849403e-02  2.97415257e-03 ...  1.47034541e-01\n",
      "   1.06488720e-01  4.19157803e-01]\n",
      " [ 1.91802867e-02  7.78996572e-02 -1.54088438e-03 ...  2.11391468e-02\n",
      "   3.10763717e-04  8.54429007e-01]\n",
      " ...\n",
      " [ 1.57205611e-01  4.57769066e-01  1.08645760e-01 ...  3.52093019e-03\n",
      "   1.01611666e-01  4.11928818e-02]\n",
      " [ 1.58312619e-01  4.51331228e-01  1.09562084e-01 ...  1.00418832e-02\n",
      "   1.10399768e-01  4.18119058e-02]\n",
      " [ 2.55795717e-02  6.04174063e-02  1.85254682e-03 ...  1.55286893e-01\n",
      "   1.05098411e-01  4.43525106e-01]]\n",
      "[7 7 7 ... 1 1 7]\n",
      "[7 7 7 ... 1 1 7]\n",
      "             precision    recall  f1-score   support\n",
      "\n",
      "          0     0.5000    0.0052    0.0104       191\n",
      "          1     0.4181    0.8473    0.5599       524\n",
      "          2     0.0000    0.0000    0.0000       109\n",
      "          3     0.9079    0.5815    0.7089       356\n",
      "          4     0.0000    0.0000    0.0000        92\n",
      "          5     0.6289    0.6000    0.6141       435\n",
      "          6     0.0000    0.0000    0.0000       309\n",
      "          7     0.7233    0.9707    0.8289       886\n",
      "\n",
      "avg / total     0.5349    0.6110    0.5339      2902\n",
      "\n",
      "[[  1 175   0  11   0   1   3   0]\n",
      " [  0 444   0   3   0  10   3  64]\n",
      " [  0 104   0   0   0   4   0   1]\n",
      " [  1  77   0 207   0  56   0  15]\n",
      " [  0  78   0   2   0   0   0  12]\n",
      " [  0   8   0   0   0 261   0 166]\n",
      " [  0 150   0   5   0  83   0  71]\n",
      " [  0  26   0   0   0   0   0 860]]\n"
     ]
    },
    {
     "name": "stderr",
     "output_type": "stream",
     "text": [
      "c:\\users\\anusha\\appdata\\local\\programs\\python\\python36\\lib\\site-packages\\keras\\models.py:1116: UserWarning: Network returning invalid probability values. The last layer might not normalize predictions into probabilities (like softmax or sigmoid would).\n",
      "  warnings.warn('Network returning invalid probability values. '\n",
      "c:\\users\\anusha\\appdata\\local\\programs\\python\\python36\\lib\\site-packages\\sklearn\\metrics\\classification.py:1135: UndefinedMetricWarning: Precision and F-score are ill-defined and being set to 0.0 in labels with no predicted samples.\n",
      "  'precision', 'predicted', average, warn_for)\n"
     ]
    }
   ],
   "source": [
    "from sklearn.metrics import classification_report, confusion_matrix\n",
    "\n",
    "y_pred = regressor.predict(x_test1)\n",
    "print(y_pred)\n",
    "y_pred = np.argmax(y_pred, axis=1)\n",
    "print(y_pred)\n",
    "\n",
    "y_pred = regressor.predict_classes(x_test1)\n",
    "print(y_pred)\n",
    "\n",
    "p=regressor.predict_proba(x_test1)\n",
    "\n",
    "target_names = ['0', '1','2','3','4','5','6','7']\n",
    "print(classification_report(np.argmax(preprocess.b1_test1, axis=1), y_pred, target_names=target_names, digits=4))\n",
    "print(confusion_matrix(np.argmax(preprocess.b1_test1, axis=1), y_pred))"
   ]
  },
  {
   "cell_type": "code",
   "execution_count": null,
   "metadata": {
    "collapsed": true
   },
   "outputs": [],
   "source": []
  }
 ],
 "metadata": {
  "kernelspec": {
   "display_name": "Python 3",
   "language": "python",
   "name": "python3"
  },
  "language_info": {
   "codemirror_mode": {
    "name": "ipython",
    "version": 3
   },
   "file_extension": ".py",
   "mimetype": "text/x-python",
   "name": "python",
   "nbconvert_exporter": "python",
   "pygments_lexer": "ipython3",
   "version": "3.6.3"
  }
 },
 "nbformat": 4,
 "nbformat_minor": 2
}
